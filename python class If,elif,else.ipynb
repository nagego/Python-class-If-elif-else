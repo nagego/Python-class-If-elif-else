{
 "cells": [
  {
   "cell_type": "code",
   "execution_count": 4,
   "id": "557f6bb9",
   "metadata": {},
   "outputs": [
    {
     "name": "stdout",
     "output_type": "stream",
     "text": [
      "this is my first condition \n"
     ]
    }
   ],
   "source": [
    "a=10\n",
    "if a==10:\n",
    "    print(\"this is my first condition \")"
   ]
  },
  {
   "cell_type": "code",
   "execution_count": 5,
   "id": "31bfdb18",
   "metadata": {},
   "outputs": [],
   "source": [
    "a=10\n",
    "if a>5:\n",
    "    pass"
   ]
  },
  {
   "cell_type": "code",
   "execution_count": 8,
   "id": "cc0b6ba3",
   "metadata": {},
   "outputs": [
    {
     "name": "stdout",
     "output_type": "stream",
     "text": [
      "print this if condition is true \n"
     ]
    }
   ],
   "source": [
    "a=10\n",
    "if a>8:\n",
    "    print(\"print this if condition is true \")"
   ]
  },
  {
   "cell_type": "code",
   "execution_count": 10,
   "id": "32d7df6f",
   "metadata": {},
   "outputs": [
    {
     "name": "stdout",
     "output_type": "stream",
     "text": [
      "print this\n"
     ]
    }
   ],
   "source": [
    "a=10\n",
    "if a ==11:\n",
    "    print(\"my condition is false\")\n",
    "else:\n",
    "    print(\"print this\")"
   ]
  },
  {
   "cell_type": "code",
   "execution_count": 19,
   "id": "df9156b5",
   "metadata": {},
   "outputs": [
    {
     "name": "stdout",
     "output_type": "stream",
     "text": [
      "if all the blocks will fail then do this\n"
     ]
    }
   ],
   "source": [
    "a=10\n",
    "if a==12:\n",
    "    print(\"here we are trying to comapre 10 with 12\")\n",
    "elif a==11:\n",
    "    print(\"we are trying to compare 10 with 11\")\n",
    "else :\n",
    "    print(\"if all the blocks will fail then do this\")"
   ]
  },
  {
   "cell_type": "code",
   "execution_count": 25,
   "id": "df7058d8",
   "metadata": {},
   "outputs": [
    {
     "name": "stdout",
     "output_type": "stream",
     "text": [
      "for sure i will able to buy\n"
     ]
    }
   ],
   "source": [
    "price=500\n",
    "if price>500:\n",
    "    print(\"may be i wont be able to buy a jacket\")\n",
    "elif price<500:\n",
    "    print(\"i will be able to buy a jacket\")\n",
    "elif price ==500:\n",
    "    print(\"for sure i will able to buy\")\n",
    "else:\n",
    "    print(\"i dont know\")\n",
    "    \n"
   ]
  },
  {
   "cell_type": "code",
   "execution_count": 27,
   "id": "a1394220",
   "metadata": {},
   "outputs": [
    {
     "data": {
      "text/plain": [
       "True"
      ]
     },
     "execution_count": 27,
     "metadata": {},
     "output_type": "execute_result"
    }
   ],
   "source": [
    "price<=500"
   ]
  },
  {
   "cell_type": "code",
   "execution_count": 28,
   "id": "c4b650fc",
   "metadata": {},
   "outputs": [
    {
     "data": {
      "text/plain": [
       "False"
      ]
     },
     "execution_count": 28,
     "metadata": {},
     "output_type": "execute_result"
    }
   ],
   "source": [
    "price>500"
   ]
  },
  {
   "cell_type": "code",
   "execution_count": null,
   "id": "ec948b03",
   "metadata": {},
   "outputs": [],
   "source": [
    "l=[1,3,4,5,7,9]"
   ]
  },
  {
   "cell_type": "code",
   "execution_count": 1,
   "id": "67ef8a91",
   "metadata": {},
   "outputs": [
    {
     "data": {
      "text/plain": [
       "4"
      ]
     },
     "execution_count": 1,
     "metadata": {},
     "output_type": "execute_result"
    }
   ],
   "source": [
    "2+2"
   ]
  },
  {
   "cell_type": "code",
   "execution_count": 19,
   "id": "3c6d9f6c",
   "metadata": {},
   "outputs": [
    {
     "name": "stdout",
     "output_type": "stream",
     "text": [
      "150\n",
      "i will be able to buy something \n",
      "i will be able to buy a jacket\n",
      "i will do something\n"
     ]
    }
   ],
   "source": [
    "price=int(input())\n",
    "if price <500:\n",
    "    print(\"i will be able to buy something \")\n",
    "    if price < 400:\n",
    "        print(\"i will be able to buy a jacket\")\n",
    "    elif price <300:\n",
    "        print(\"i will be able to buy shirt\")\n",
    "    if price<200:\n",
    "            print(\"i will do something\")\n",
    "    else:\n",
    "        print(\"i wont be able to buy anything\")\n",
    "else:\n",
    "    print(\"i wont able to anything with this price tag\")\n",
    "    if price>500:\n",
    "        print(\"lets try something else\")\n",
    "    "
   ]
  },
  {
   "cell_type": "code",
   "execution_count": 24,
   "id": "a15f5668",
   "metadata": {},
   "outputs": [
    {
     "name": "stdout",
     "output_type": "stream",
     "text": [
      "enter a floating point number0\n",
      "entered value is zero\n"
     ]
    }
   ],
   "source": [
    "val= float(input(\"enter a floating point number\"))\n",
    "if val>=0:\n",
    "    if val==0:\n",
    "        print(\"entered value is zero\")\n",
    "    else:\n",
    "        print(\"enter value is positive number\")\n",
    "else:\n",
    "    print(\"entered number is negative number\")"
   ]
  },
  {
   "cell_type": "code",
   "execution_count": 31,
   "id": "c239d913",
   "metadata": {},
   "outputs": [
    {
     "name": "stdout",
     "output_type": "stream",
     "text": [
      "try to do something\n"
     ]
    }
   ],
   "source": [
    "a=10\n",
    "if a<=10 and a==10:\n",
    "    print(\"try to do something\")"
   ]
  },
  {
   "cell_type": "code",
   "execution_count": 35,
   "id": "c9fa8045",
   "metadata": {},
   "outputs": [
    {
     "name": "stdout",
     "output_type": "stream",
     "text": [
      "this is sudh\n"
     ]
    }
   ],
   "source": [
    "a=\"sudh\"\n",
    "if a==\"sudh\" and a==\"sudh\":\n",
    "    print(\"this is sudh\")"
   ]
  },
  {
   "cell_type": "code",
   "execution_count": 37,
   "id": "21d4427a",
   "metadata": {},
   "outputs": [
    {
     "name": "stdout",
     "output_type": "stream",
     "text": [
      "lets do something\n"
     ]
    }
   ],
   "source": [
    "a=10\n",
    "b=11\n",
    "c=12\n",
    "d=13\n",
    "if a==9 or b==11 and c==12 and d==13:\n",
    "    print(\"lets do something\")"
   ]
  },
  {
   "cell_type": "code",
   "execution_count": 38,
   "id": "09d2063e",
   "metadata": {},
   "outputs": [],
   "source": [
    "d={'key1': 'value',\"key2\":\"sudh\",\"key3\":\"ineuron\"}"
   ]
  },
  {
   "cell_type": "code",
   "execution_count": 43,
   "id": "0bc14628",
   "metadata": {},
   "outputs": [
    {
     "name": "stdout",
     "output_type": "stream",
     "text": [
      "all values are verified\n",
      "dict_values(['value', 'sudh', 'ineuron'])\n"
     ]
    }
   ],
   "source": [
    "if d['key1']=='value' and d[\"key2\"]==\"sudh\"and d['key3']=='ineuron':\n",
    "    print(\"all values are verified\")\n",
    "    print(d.values())\n",
    "else:\n",
    "    print(\"all the values are not verified\")"
   ]
  },
  {
   "cell_type": "code",
   "execution_count": 44,
   "id": "5d0b2d66",
   "metadata": {},
   "outputs": [
    {
     "data": {
      "text/plain": [
       "'value'"
      ]
     },
     "execution_count": 44,
     "metadata": {},
     "output_type": "execute_result"
    }
   ],
   "source": [
    "d['key1']"
   ]
  },
  {
   "cell_type": "code",
   "execution_count": 45,
   "id": "75615226",
   "metadata": {},
   "outputs": [],
   "source": [
    "l=[1,3,2,4,5,6,\"sudh\",234.42]"
   ]
  },
  {
   "cell_type": "code",
   "execution_count": 46,
   "id": "6b1ab033",
   "metadata": {},
   "outputs": [
    {
     "data": {
      "text/plain": [
       "[1, 3, 2, 4, 5, 6, 'sudh', 234.42]"
      ]
     },
     "execution_count": 46,
     "metadata": {},
     "output_type": "execute_result"
    }
   ],
   "source": [
    "l"
   ]
  },
  {
   "cell_type": "code",
   "execution_count": 47,
   "id": "f8769bde",
   "metadata": {},
   "outputs": [
    {
     "data": {
      "text/plain": [
       "3"
      ]
     },
     "execution_count": 47,
     "metadata": {},
     "output_type": "execute_result"
    }
   ],
   "source": [
    "l[1]"
   ]
  },
  {
   "cell_type": "code",
   "execution_count": 49,
   "id": "9e2129b0",
   "metadata": {},
   "outputs": [
    {
     "data": {
      "text/plain": [
       "[2, 4, 5]"
      ]
     },
     "execution_count": 49,
     "metadata": {},
     "output_type": "execute_result"
    }
   ],
   "source": [
    "l[2:5]"
   ]
  },
  {
   "cell_type": "code",
   "execution_count": 57,
   "id": "c3594139",
   "metadata": {},
   "outputs": [
    {
     "name": "stdout",
     "output_type": "stream",
     "text": [
      "2\n",
      "4\n",
      "3\n",
      "5\n",
      "6\n",
      "7\n",
      "sudh1\n",
      "235.42\n"
     ]
    }
   ],
   "source": [
    "for i in l:\n",
    "    if type(i)==int or type(i)== float:\n",
    "        print(i+1)\n",
    "    elif type(i)==str:\n",
    "        print(i+str(1))"
   ]
  },
  {
   "cell_type": "code",
   "execution_count": 52,
   "id": "69ee0e64",
   "metadata": {},
   "outputs": [
    {
     "data": {
      "text/plain": [
       "[1, 3, 2, 4, 5, 6, 'sudh', 234.42]"
      ]
     },
     "execution_count": 52,
     "metadata": {},
     "output_type": "execute_result"
    }
   ],
   "source": [
    "l"
   ]
  },
  {
   "cell_type": "code",
   "execution_count": 61,
   "id": "282b7dc8",
   "metadata": {},
   "outputs": [],
   "source": [
    "a=[1,3,5,7,8,9.21,8,124,4.25,5.24,355]"
   ]
  },
  {
   "cell_type": "code",
   "execution_count": 63,
   "id": "7dcce4d7",
   "metadata": {},
   "outputs": [
    {
     "name": "stdout",
     "output_type": "stream",
     "text": [
      "1\n",
      "3\n",
      "5\n",
      "7\n",
      "8\n",
      "9.21\n",
      "8\n",
      "124\n",
      "4.25\n",
      "5.24\n",
      "355\n"
     ]
    }
   ],
   "source": [
    "for b in a or b==float :\n",
    "    print(b)"
   ]
  },
  {
   "cell_type": "code",
   "execution_count": null,
   "id": "f7915f91",
   "metadata": {},
   "outputs": [],
   "source": []
  }
 ],
 "metadata": {
  "kernelspec": {
   "display_name": "Python 3 (ipykernel)",
   "language": "python",
   "name": "python3"
  },
  "language_info": {
   "codemirror_mode": {
    "name": "ipython",
    "version": 3
   },
   "file_extension": ".py",
   "mimetype": "text/x-python",
   "name": "python",
   "nbconvert_exporter": "python",
   "pygments_lexer": "ipython3",
   "version": "3.9.12"
  }
 },
 "nbformat": 4,
 "nbformat_minor": 5
}
